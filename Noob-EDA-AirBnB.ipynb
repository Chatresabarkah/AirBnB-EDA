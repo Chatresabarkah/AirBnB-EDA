{
 "cells": [
  {
   "cell_type": "markdown",
   "metadata": {},
   "source": [
    "# Noob Data Project - Exploring AirBnB Data for Broke Couples\n",
    "### Background Story and Premise:\n",
    "Throughout my time studying in Amsterdam, I met and saw a lot of tourists. More than I could bargain for. This was because I lived near a very tourist-dense area where there were loads of international visitors and barely any Dutch people. (If you're asking how I managed to find an apartment to rent in this area, let's just say I got unbelievably lucky)\n",
    "\n",
    "A category of tourists that I normally bumped into, besides families and drunken British boys in their mid 30's, were young couples. Usually hailing from other European countries, they wanted to temporarily escape their home, flying away to the most romantic honeymoon - and where else to spend this endeavour, if not for the one and only, premium adult playground that is Amsterdam?\n",
    "\n",
    "There is a problem for these young couples, however. Amsterdam is a relatively expensive city. And when you're young, you're probably not going to be in the right spectrum when it comes to financial wellness - constantly asking about what this costs compared to that (well, unless you have rich parents or bought bitcoin back in 2012) - you're most likely going to be *broke*.\n",
    "\n",
    "### Project Aim and Deliverable:\n",
    "\n",
    "This brief project will attempt to conduct an exploratory data analysis for this target market. We will try and flesh out the best options for a couple short on cash looking to rent an Airbnb in the city of Amsterdam. \n",
    "\n",
    "The final deliverable however, will specifically come up with a tailored marketing advice pertaining to broke couples. Relevant stakeholders may be interested in finding out variables and trends which could prove useful in developing strategies for conversion. We may simplify the end goal by answering this question below: \n",
    "\n",
    "**What advice would I give the AirBnB marketing team, if their objective was to create advertisements for broke couples wanting to visit Amsterdam?**"
   ]
  },
  {
   "cell_type": "markdown",
   "metadata": {},
   "source": [
    "--------------------------------------------------------------------------------------------------------"
   ]
  },
  {
   "cell_type": "markdown",
   "metadata": {},
   "source": [
    "#### Warnings and Notices\n",
    "* This dataset is outdated - if we run the URL's that go to the original listing, some of them have been taken off the AirBnB website and is therefore not available anymore\n",
    "* Geospatial information, such as the availability of maps, will be included in this dataset - via a python libary. However, if you're having a read right now, the data analyst responsible is currently in the process of learning how to do just that :) thank you for your patience."
   ]
  },
  {
   "cell_type": "markdown",
   "metadata": {},
   "source": [
    "--------------------------------------------------------------------------------------------------------"
   ]
  },
  {
   "cell_type": "code",
   "execution_count": 1,
   "metadata": {},
   "outputs": [],
   "source": [
    "import pandas as pd \n",
    "import seaborn as sns \n",
    "import matplotlib.pyplot as plt\n",
    "plt.style.use('seaborn')"
   ]
  },
  {
   "cell_type": "code",
   "execution_count": 2,
   "metadata": {},
   "outputs": [],
   "source": [
    "listings_raw = pd.read_csv(\"Airbnb-data/listings_details.csv\", low_memory= False)"
   ]
  },
  {
   "cell_type": "code",
   "execution_count": 3,
   "metadata": {},
   "outputs": [
    {
     "data": {
      "text/plain": [
       "(20030, 96)"
      ]
     },
     "execution_count": 3,
     "metadata": {},
     "output_type": "execute_result"
    }
   ],
   "source": [
    "listings_raw.shape"
   ]
  },
  {
   "cell_type": "markdown",
   "metadata": {},
   "source": [
    "Since the dataset has too much columns, let's narrow it down to the most relevant ones"
   ]
  },
  {
   "cell_type": "code",
   "execution_count": 4,
   "metadata": {},
   "outputs": [],
   "source": [
    "colnames = [\"id\", \"listing_url\", \"price\",\"review_scores_rating\", \"number_of_reviews\", \"name\",\"neighbourhood\",\"beds\",\n",
    "            \"bathrooms\", \"property_type\",\"room_type\", \"accommodates\", \"minimum_nights\", \"availability_365\",\n",
    "            \"latitude\", \"longitude\"]\n",
    "\n",
    "listingsv1 = listings_raw[colnames]"
   ]
  },
  {
   "cell_type": "code",
   "execution_count": 5,
   "metadata": {},
   "outputs": [
    {
     "data": {
      "text/html": [
       "<div>\n",
       "<style scoped>\n",
       "    .dataframe tbody tr th:only-of-type {\n",
       "        vertical-align: middle;\n",
       "    }\n",
       "\n",
       "    .dataframe tbody tr th {\n",
       "        vertical-align: top;\n",
       "    }\n",
       "\n",
       "    .dataframe thead th {\n",
       "        text-align: right;\n",
       "    }\n",
       "</style>\n",
       "<table border=\"1\" class=\"dataframe\">\n",
       "  <thead>\n",
       "    <tr style=\"text-align: right;\">\n",
       "      <th></th>\n",
       "      <th>id</th>\n",
       "      <th>listing_url</th>\n",
       "      <th>price</th>\n",
       "      <th>review_scores_rating</th>\n",
       "      <th>number_of_reviews</th>\n",
       "      <th>name</th>\n",
       "      <th>neighbourhood</th>\n",
       "      <th>beds</th>\n",
       "      <th>bathrooms</th>\n",
       "      <th>property_type</th>\n",
       "      <th>room_type</th>\n",
       "      <th>accommodates</th>\n",
       "      <th>minimum_nights</th>\n",
       "      <th>availability_365</th>\n",
       "      <th>latitude</th>\n",
       "      <th>longitude</th>\n",
       "    </tr>\n",
       "  </thead>\n",
       "  <tbody>\n",
       "    <tr>\n",
       "      <th>0</th>\n",
       "      <td>2818</td>\n",
       "      <td>https://www.airbnb.com/rooms/2818</td>\n",
       "      <td>$59.00</td>\n",
       "      <td>97.0</td>\n",
       "      <td>248</td>\n",
       "      <td>Quiet Garden View Room &amp; Super Fast WiFi</td>\n",
       "      <td>Indische Buurt</td>\n",
       "      <td>2.0</td>\n",
       "      <td>1.5</td>\n",
       "      <td>Apartment</td>\n",
       "      <td>Private room</td>\n",
       "      <td>2</td>\n",
       "      <td>3</td>\n",
       "      <td>44</td>\n",
       "      <td>52.365755</td>\n",
       "      <td>4.941419</td>\n",
       "    </tr>\n",
       "    <tr>\n",
       "      <th>1</th>\n",
       "      <td>3209</td>\n",
       "      <td>https://www.airbnb.com/rooms/3209</td>\n",
       "      <td>$160.00</td>\n",
       "      <td>96.0</td>\n",
       "      <td>42</td>\n",
       "      <td>Quiet apt near center, great view</td>\n",
       "      <td>Spaarndammer en Zeeheldenbuurt</td>\n",
       "      <td>2.0</td>\n",
       "      <td>1.0</td>\n",
       "      <td>Apartment</td>\n",
       "      <td>Entire home/apt</td>\n",
       "      <td>5</td>\n",
       "      <td>4</td>\n",
       "      <td>47</td>\n",
       "      <td>52.390225</td>\n",
       "      <td>4.873924</td>\n",
       "    </tr>\n",
       "    <tr>\n",
       "      <th>2</th>\n",
       "      <td>20168</td>\n",
       "      <td>https://www.airbnb.com/rooms/20168</td>\n",
       "      <td>$80.00</td>\n",
       "      <td>87.0</td>\n",
       "      <td>233</td>\n",
       "      <td>100%Centre-Studio 1 Private Floor/Bathroom</td>\n",
       "      <td>Grachtengordel</td>\n",
       "      <td>1.0</td>\n",
       "      <td>1.0</td>\n",
       "      <td>Townhouse</td>\n",
       "      <td>Entire home/apt</td>\n",
       "      <td>2</td>\n",
       "      <td>1</td>\n",
       "      <td>198</td>\n",
       "      <td>52.365087</td>\n",
       "      <td>4.893541</td>\n",
       "    </tr>\n",
       "    <tr>\n",
       "      <th>3</th>\n",
       "      <td>25428</td>\n",
       "      <td>https://www.airbnb.com/rooms/25428</td>\n",
       "      <td>$125.00</td>\n",
       "      <td>100.0</td>\n",
       "      <td>1</td>\n",
       "      <td>Lovely apt in City Centre (Jordaan)</td>\n",
       "      <td>Grachtengordel</td>\n",
       "      <td>1.0</td>\n",
       "      <td>1.0</td>\n",
       "      <td>Apartment</td>\n",
       "      <td>Entire home/apt</td>\n",
       "      <td>3</td>\n",
       "      <td>14</td>\n",
       "      <td>141</td>\n",
       "      <td>52.373114</td>\n",
       "      <td>4.883668</td>\n",
       "    </tr>\n",
       "    <tr>\n",
       "      <th>4</th>\n",
       "      <td>27886</td>\n",
       "      <td>https://www.airbnb.com/rooms/27886</td>\n",
       "      <td>$150.00</td>\n",
       "      <td>99.0</td>\n",
       "      <td>171</td>\n",
       "      <td>Romantic, stylish B&amp;B houseboat in canal district</td>\n",
       "      <td>Westelijke Eilanden</td>\n",
       "      <td>1.0</td>\n",
       "      <td>1.0</td>\n",
       "      <td>Houseboat</td>\n",
       "      <td>Private room</td>\n",
       "      <td>2</td>\n",
       "      <td>2</td>\n",
       "      <td>199</td>\n",
       "      <td>52.386727</td>\n",
       "      <td>4.892078</td>\n",
       "    </tr>\n",
       "  </tbody>\n",
       "</table>\n",
       "</div>"
      ],
      "text/plain": [
       "      id                         listing_url    price  review_scores_rating  \\\n",
       "0   2818   https://www.airbnb.com/rooms/2818   $59.00                  97.0   \n",
       "1   3209   https://www.airbnb.com/rooms/3209  $160.00                  96.0   \n",
       "2  20168  https://www.airbnb.com/rooms/20168   $80.00                  87.0   \n",
       "3  25428  https://www.airbnb.com/rooms/25428  $125.00                 100.0   \n",
       "4  27886  https://www.airbnb.com/rooms/27886  $150.00                  99.0   \n",
       "\n",
       "   number_of_reviews                                               name  \\\n",
       "0                248           Quiet Garden View Room & Super Fast WiFi   \n",
       "1                 42                  Quiet apt near center, great view   \n",
       "2                233         100%Centre-Studio 1 Private Floor/Bathroom   \n",
       "3                  1                Lovely apt in City Centre (Jordaan)   \n",
       "4                171  Romantic, stylish B&B houseboat in canal district   \n",
       "\n",
       "                    neighbourhood  beds  bathrooms property_type  \\\n",
       "0                  Indische Buurt   2.0        1.5     Apartment   \n",
       "1  Spaarndammer en Zeeheldenbuurt   2.0        1.0     Apartment   \n",
       "2                  Grachtengordel   1.0        1.0     Townhouse   \n",
       "3                  Grachtengordel   1.0        1.0     Apartment   \n",
       "4             Westelijke Eilanden   1.0        1.0     Houseboat   \n",
       "\n",
       "         room_type  accommodates  minimum_nights  availability_365   latitude  \\\n",
       "0     Private room             2               3                44  52.365755   \n",
       "1  Entire home/apt             5               4                47  52.390225   \n",
       "2  Entire home/apt             2               1               198  52.365087   \n",
       "3  Entire home/apt             3              14               141  52.373114   \n",
       "4     Private room             2               2               199  52.386727   \n",
       "\n",
       "   longitude  \n",
       "0   4.941419  \n",
       "1   4.873924  \n",
       "2   4.893541  \n",
       "3   4.883668  \n",
       "4   4.892078  "
      ]
     },
     "execution_count": 5,
     "metadata": {},
     "output_type": "execute_result"
    }
   ],
   "source": [
    "listingsv1.head() #Let's Peep the Dataset"
   ]
  },
  {
   "cell_type": "markdown",
   "metadata": {},
   "source": [
    "----------------------------------------------------------------------------------------------------------------------"
   ]
  },
  {
   "cell_type": "markdown",
   "metadata": {},
   "source": [
    "## PLAYGROUND! - Temporary Place to test Code"
   ]
  },
  {
   "cell_type": "markdown",
   "metadata": {},
   "source": [
    "----------------------------------------------------------------------------------------------------------------------"
   ]
  },
  {
   "cell_type": "markdown",
   "metadata": {},
   "source": [
    "## Cleaning and Modifying the Data / Setting Limits"
   ]
  },
  {
   "cell_type": "code",
   "execution_count": 6,
   "metadata": {
    "scrolled": true
   },
   "outputs": [
    {
     "data": {
      "text/plain": [
       "id                         0\n",
       "listing_url                0\n",
       "price                      0\n",
       "review_scores_rating    2639\n",
       "number_of_reviews          0\n",
       "name                      38\n",
       "neighbourhood           1653\n",
       "beds                       7\n",
       "bathrooms                 10\n",
       "property_type              0\n",
       "room_type                  0\n",
       "accommodates               0\n",
       "minimum_nights             0\n",
       "availability_365           0\n",
       "latitude                   0\n",
       "longitude                  0\n",
       "dtype: int64"
      ]
     },
     "execution_count": 6,
     "metadata": {},
     "output_type": "execute_result"
    }
   ],
   "source": [
    "# Check missing values\n",
    "listingsv1.isnull().sum()"
   ]
  },
  {
   "cell_type": "code",
   "execution_count": 19,
   "metadata": {
    "scrolled": true
   },
   "outputs": [],
   "source": [
    "#Clean Data with null values = beds, bathrooms \n",
    "listingsv1.loc[:, 'beds'] = listingsv1.loc[:, 'beds'].dropna\n",
    "listingsv1.loc[:, 'bathrooms'] = listingsv1.loc[:, 'bathrooms'].dropna"
   ]
  },
  {
   "cell_type": "code",
   "execution_count": 20,
   "metadata": {},
   "outputs": [],
   "source": [
    "# Convert price from object into int\n",
    "listingsv1.loc[:, \"price\"] = listingsv1.loc[:, \"price\"].replace('[\\$,]', '', regex=True).astype(float)"
   ]
  },
  {
   "cell_type": "code",
   "execution_count": 9,
   "metadata": {},
   "outputs": [],
   "source": [
    "# Omit Data that has 0 for price value \n",
    "aboveZeroFilter = listingsv1['price'] > 1\n",
    "listingsv1 = listingsv1[aboveZeroFilter]"
   ]
  },
  {
   "cell_type": "code",
   "execution_count": 10,
   "metadata": {},
   "outputs": [],
   "source": [
    "#Let's convert the price from Dollars to Euros\n",
    "#Let's also creat another price column - Indonesian Rupiah (personal use!)\n",
    "\n",
    "from currency_converter import CurrencyConverter\n",
    "c = CurrencyConverter()\n",
    "\n",
    "def dollar_to_euro(x):\n",
    "    return round(c.convert(x, 'USD','EUR'), 1)\n",
    "\n",
    "def euro_to_idr(x):\n",
    "    return round(c.convert(x, 'EUR','IDR'))\n",
    "\n",
    "listingsv1.loc[:, 'price'] = listingsv1.loc[:, 'price'].apply(dollar_to_euro)\n",
    "listingsv1.loc[:, 'price_idr'] = listingsv1.loc[:, 'price'].apply(euro_to_idr)"
   ]
  },
  {
   "cell_type": "markdown",
   "metadata": {},
   "source": [
    "### Checking for outliers"
   ]
  },
  {
   "cell_type": "code",
   "execution_count": 11,
   "metadata": {},
   "outputs": [
    {
     "data": {
      "text/plain": [
       "<AxesSubplot:xlabel='price'>"
      ]
     },
     "execution_count": 11,
     "metadata": {},
     "output_type": "execute_result"
    },
    {
     "data": {
      "image/png": "[encoded data removed]",
      "text/plain": [
       "<Figure size 720x360 with 1 Axes>"
      ]
     },
     "metadata": {},
     "output_type": "display_data"
    }
   ],
   "source": [
    "plt.figure(figsize = (10,5))\n",
    "sns.boxplot(data=listingsv1, x='price')"
   ]
  },
  {
   "cell_type": "markdown",
   "metadata": {},
   "source": [
    "As we can see, there are a bunch of outliers. It never ceases to amaze me how there is actually a couple of listings above 8000€. \n",
    "\n",
    "One may argue that since we are performing analysis only for a target that is 'broke', we can just omit prices that do not fall within a certain range - but hold on - *just what do you mean by 'broke?'* This is of course relative to every person, but to keep it as unambigious as possible, in this analysis I will work with **what's below the 25th Percentile:**"
   ]
  },
  {
   "cell_type": "code",
   "execution_count": 12,
   "metadata": {},
   "outputs": [
    {
     "name": "stdout",
     "output_type": "stream",
     "text": [
      "We will define the price limit as... 91€\n",
      "Split that in two, and you get 45.5€ per couple..\n"
     ]
    }
   ],
   "source": [
    "brokelimit = round(listingsv1['price'].quantile(q=0.25))\n",
    "print(f'We will define the price limit as... {brokelimit}€')\n",
    "print(f'Split that in two, and you get {brokelimit/2}€ per couple..')"
   ]
  },
  {
   "cell_type": "markdown",
   "metadata": {},
   "source": [
    "Personally, the prices above are a good enough limit on what constitutes as a 'broke' price maximum."
   ]
  },
  {
   "cell_type": "code",
   "execution_count": 13,
   "metadata": {},
   "outputs": [
    {
     "name": "stdout",
     "output_type": "stream",
     "text": [
      "In total, we have 6742 listings that fall within the price range\n"
     ]
    }
   ],
   "source": [
    "price_mask = listingsv1[\"price\"] <= 96\n",
    "listingsv1 = listingsv1[price_mask]\n",
    "listingamount = listingsv1['price'].count()\n",
    "print(f'In total, we have {listingamount} listings that fall within the price range')"
   ]
  },
  {
   "cell_type": "code",
   "execution_count": 14,
   "metadata": {},
   "outputs": [
    {
     "data": {
      "text/plain": [
       "<AxesSubplot:xlabel='price'>"
      ]
     },
     "execution_count": 14,
     "metadata": {},
     "output_type": "execute_result"
    },
    {
     "data": {
      "image/png": "[encoded data removed]",
      "text/plain": [
       "<Figure size 720x360 with 1 Axes>"
      ]
     },
     "metadata": {},
     "output_type": "display_data"
    }
   ],
   "source": [
    "#Let's check the boxplot again - looks great to me!\n",
    "plt.figure(figsize = (10,5))\n",
    "sns.boxplot(data=listingsv1, x='price')"
   ]
  },
  {
   "cell_type": "markdown",
   "metadata": {},
   "source": [
    "**What's the price we can expect on average?**"
   ]
  },
  {
   "cell_type": "code",
   "execution_count": 15,
   "metadata": {},
   "outputs": [
    {
     "name": "stdout",
     "output_type": "stream",
     "text": [
      "The average price, when setting the price limit of the data to the 25th Percentile is 77$\n"
     ]
    }
   ],
   "source": [
    "pricemean = round(listingsv1['price'].mean())\n",
    "print(f'The average price, when setting the price limit of the data to the 25th Percentile is {pricemean}' + '$')"
   ]
  },
  {
   "cell_type": "markdown",
   "metadata": {},
   "source": [
    "### Setting a filter which makes sure the listing is indeed for a couple\n",
    "The 'accommodates' column indicates the maximum and minimum amount of guests a listing can hold. In our case, let's set it exactly to two."
   ]
  },
  {
   "cell_type": "code",
   "execution_count": 16,
   "metadata": {},
   "outputs": [
    {
     "name": "stdout",
     "output_type": "stream",
     "text": [
      "In total, we have 5080 listings that fall within the couple criteria\n"
     ]
    }
   ],
   "source": [
    "coupleMask = listingsv1['accommodates'] == 2\n",
    "listingsv1 = listingsv1[coupleMask]\n",
    "listingcount = listingsv1['id'].count()\n",
    "print(f'In total, we have {listingcount} listings that fall within the couple criteria')"
   ]
  },
  {
   "cell_type": "markdown",
   "metadata": {},
   "source": [
    "----------------------------------------------------------------------------------------------------------------------"
   ]
  },
  {
   "cell_type": "markdown",
   "metadata": {},
   "source": [
    "## Exploratory Data Analysis"
   ]
  },
  {
   "cell_type": "markdown",
   "metadata": {},
   "source": [
    "### A Closer Investigation of Neighbourhoods"
   ]
  },
  {
   "cell_type": "markdown",
   "metadata": {},
   "source": [
    "Which Neighbourhood falls into our criteria the most? In other words, which neighbourhood has the most listings when it came to fitting into the criteria of a broke couple?"
   ]
  },
  {
   "cell_type": "code",
   "execution_count": 17,
   "metadata": {},
   "outputs": [
    {
     "data": {
      "text/plain": [
       "Text(0.5, 1.0, 'Top 10, Friendly-To-Broke-Couples Neighbourhoods')"
      ]
     },
     "execution_count": 17,
     "metadata": {},
     "output_type": "execute_result"
    },
    {
     "data": {
      "image/png": "[encoded data removed]",
      "text/plain": [
       "<Figure size 864x504 with 1 Axes>"
      ]
     },
     "metadata": {},
     "output_type": "display_data"
    }
   ],
   "source": [
    "plt.figure(figsize=(12,7))\n",
    "listingsv1['neighbourhood'].value_counts().head(10).plot(kind='barh').invert_yaxis()\n",
    "plt.yticks(fontsize = 12, rotation = 0)\n",
    "plt.title('Top 10, Friendly-To-Broke-Couples Neighbourhoods', fontsize= 15, fontweight = 'bold', pad = 20)"
   ]
  },
  {
   "cell_type": "markdown",
   "metadata": {},
   "source": [
    "Looks like the neighbourhood of Oud-West takes the top spot by a big margin - This is no surprise because that area is primarily filled with residential apartments to begin with. But what about it's price? If you are a *truly broke* couple, you probably would prioritise price above everything else, correct?\n",
    "\n",
    "Let us then ask, which areas have on average, the cheapest AirBnB listings when it comes to accommodating two people:"
   ]
  },
  {
   "cell_type": "code",
   "execution_count": 18,
   "metadata": {},
   "outputs": [
    {
     "data": {
      "text/plain": [
       "Text(0.5, 1.0, 'Top 10 Areas with Cheapest Listings (On Average)')"
      ]
     },
     "execution_count": 18,
     "metadata": {},
     "output_type": "execute_result"
    },
    {
     "data": {
      "image/png": "[encoded data removed]",
      "text/plain": [
       "<Figure size 864x504 with 1 Axes>"
      ]
     },
     "metadata": {},
     "output_type": "display_data"
    }
   ],
   "source": [
    "plt.figure(figsize=(12,7))\n",
    "gbo = listingsv1.groupby('neighbourhood')\n",
    "gbo['price'].mean().nsmallest(10).plot(kind='barh').invert_yaxis()\n",
    "plt.yticks(fontsize = 12, rotation = 0)\n",
    "plt.ylabel(None)\n",
    "plt.title('Top 10 Areas with Cheapest Listings (On Average)', fontsize= 15, fontweight = 'bold', pad = 20)"
   ]
  },
  {
   "cell_type": "code",
   "execution_count": null,
   "metadata": {},
   "outputs": [],
   "source": []
  }
 ],
 "metadata": {
  "kernelspec": {
   "display_name": "Python 3",
   "language": "python",
   "name": "python3"
  },
  "language_info": {
   "codemirror_mode": {
    "name": "ipython",
    "version": 3
   },
   "file_extension": ".py",
   "mimetype": "text/x-python",
   "name": "python",
   "nbconvert_exporter": "python",
   "pygments_lexer": "ipython3",
   "version": "3.8.5"
  }
 },
 "nbformat": 4,
 "nbformat_minor": 4
}
