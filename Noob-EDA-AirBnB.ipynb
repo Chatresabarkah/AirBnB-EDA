{
 "cells": [
  {
   "cell_type": "markdown",
   "metadata": {},
   "source": [
    "# EDA Practice  - Exploring AirBnB Data for Broke Couples\n",
    "### Background Story and Premise:\n",
    "Throughout my time studying in Amsterdam, I met and saw a lot of tourists. More than I could bargain for. This was because I lived near a very tourist-dense area where there were loads of international visitors and barely any Dutch people. (If you're asking how I managed to find an apartment to rent in this area, let's just say I got unbelievably lucky)\n",
    "\n",
    "A category of tourists that I normally bumped into, besides families and drunken British boys in their mid 30's, were young couples. Usually hailing from other European countries, they wanted to temporarily escape their home, flying away to the most romantic honeymoon - and where else to spend this endeavour, if not for the one and only, premium adult playground that is Amsterdam?\n",
    "\n",
    "There is a problem for these young couples, however. Amsterdam is a relatively expensive city. And when you're young, you're probably not going to be in the right spectrum when it comes to financial wellness - constantly asking about what this costs compared to that (well, unless you have rich parents or bought bitcoin back in 2012) - you're most likely going to be *broke*.\n",
    "\n",
    "### EDA Aim:\n",
    "\n",
    "* This EDA will attempt to conduct an exploratory data analysis for this target market. We will try and flesh out the best options for a couple short on cash looking to rent an Airbnb in the city of Amsterdam. \n",
    "* Also, at the current time of writing this EDA, my status single.... however, should I in the future get a girlfriend.. I'll probably look on here for references.....\n",
    "* *Cries in the background*"
   ]
  },
  {
   "cell_type": "markdown",
   "metadata": {},
   "source": [
    "--------------------------------------------------------------------------------------------------------"
   ]
  },
  {
   "cell_type": "markdown",
   "metadata": {},
   "source": [
    "Below I implemented an ignore for warnings - this is of course not something i'd recommend but i ran into an issue with updating the data using 'loc' even though my code was basically correct *('settingwithcopy warning')*. I am still in the process of finding out why, but for now, I will install this "
   ]
  },
  {
   "cell_type": "code",
   "execution_count": 1,
   "metadata": {},
   "outputs": [],
   "source": [
    "import warnings\n",
    "warnings.filterwarnings('ignore')"
   ]
  },
  {
   "cell_type": "markdown",
   "metadata": {},
   "source": [
    "--------------------------------------------------------------------------------------------------------"
   ]
  },
  {
   "cell_type": "code",
   "execution_count": 2,
   "metadata": {},
   "outputs": [],
   "source": [
    "import pandas as pd \n",
    "import seaborn as sns \n",
    "import matplotlib.pyplot as plt\n",
    "plt.style.use('seaborn')"
   ]
  },
  {
   "cell_type": "code",
   "execution_count": 3,
   "metadata": {},
   "outputs": [],
   "source": [
    "listings_raw = pd.read_csv(\"Airbnb-data/listings_details.csv\", low_memory= False)"
   ]
  },
  {
   "cell_type": "code",
   "execution_count": 4,
   "metadata": {},
   "outputs": [
    {
     "data": {
      "text/plain": [
       "(20030, 96)"
      ]
     },
     "execution_count": 4,
     "metadata": {},
     "output_type": "execute_result"
    }
   ],
   "source": [
    "listings_raw.shape"
   ]
  },
  {
   "cell_type": "markdown",
   "metadata": {},
   "source": [
    "Since the dataset has too much columns, let's narrow it down to the most relevant ones"
   ]
  },
  {
   "cell_type": "code",
   "execution_count": 6,
   "metadata": {},
   "outputs": [],
   "source": [
    "colnames = [\"id\", \"listing_url\", \"price\", \"name\",\"neighbourhood\",\"beds\",\n",
    "            \"bathrooms\", \"property_type\", \"accommodates\", 'number_of_reviews',\n",
    "            'review_scores_rating',\"latitude\", \"longitude\"]\n",
    "\n",
    "listings = listings_raw[colnames]"
   ]
  },
  {
   "cell_type": "code",
   "execution_count": 7,
   "metadata": {},
   "outputs": [
    {
     "data": {
      "text/html": [
       "<div>\n",
       "<style scoped>\n",
       "    .dataframe tbody tr th:only-of-type {\n",
       "        vertical-align: middle;\n",
       "    }\n",
       "\n",
       "    .dataframe tbody tr th {\n",
       "        vertical-align: top;\n",
       "    }\n",
       "\n",
       "    .dataframe thead th {\n",
       "        text-align: right;\n",
       "    }\n",
       "</style>\n",
       "<table border=\"1\" class=\"dataframe\">\n",
       "  <thead>\n",
       "    <tr style=\"text-align: right;\">\n",
       "      <th></th>\n",
       "      <th>id</th>\n",
       "      <th>listing_url</th>\n",
       "      <th>price</th>\n",
       "      <th>name</th>\n",
       "      <th>neighbourhood</th>\n",
       "      <th>beds</th>\n",
       "      <th>bathrooms</th>\n",
       "      <th>property_type</th>\n",
       "      <th>accommodates</th>\n",
       "      <th>number_of_reviews</th>\n",
       "      <th>review_scores_rating</th>\n",
       "      <th>latitude</th>\n",
       "      <th>longitude</th>\n",
       "    </tr>\n",
       "  </thead>\n",
       "  <tbody>\n",
       "    <tr>\n",
       "      <th>0</th>\n",
       "      <td>2818</td>\n",
       "      <td>https://www.airbnb.com/rooms/2818</td>\n",
       "      <td>$59.00</td>\n",
       "      <td>Quiet Garden View Room &amp; Super Fast WiFi</td>\n",
       "      <td>Indische Buurt</td>\n",
       "      <td>2.0</td>\n",
       "      <td>1.5</td>\n",
       "      <td>Apartment</td>\n",
       "      <td>2</td>\n",
       "      <td>248</td>\n",
       "      <td>97.0</td>\n",
       "      <td>52.365755</td>\n",
       "      <td>4.941419</td>\n",
       "    </tr>\n",
       "    <tr>\n",
       "      <th>1</th>\n",
       "      <td>3209</td>\n",
       "      <td>https://www.airbnb.com/rooms/3209</td>\n",
       "      <td>$160.00</td>\n",
       "      <td>Quiet apt near center, great view</td>\n",
       "      <td>Spaarndammer en Zeeheldenbuurt</td>\n",
       "      <td>2.0</td>\n",
       "      <td>1.0</td>\n",
       "      <td>Apartment</td>\n",
       "      <td>5</td>\n",
       "      <td>42</td>\n",
       "      <td>96.0</td>\n",
       "      <td>52.390225</td>\n",
       "      <td>4.873924</td>\n",
       "    </tr>\n",
       "    <tr>\n",
       "      <th>2</th>\n",
       "      <td>20168</td>\n",
       "      <td>https://www.airbnb.com/rooms/20168</td>\n",
       "      <td>$80.00</td>\n",
       "      <td>100%Centre-Studio 1 Private Floor/Bathroom</td>\n",
       "      <td>Grachtengordel</td>\n",
       "      <td>1.0</td>\n",
       "      <td>1.0</td>\n",
       "      <td>Townhouse</td>\n",
       "      <td>2</td>\n",
       "      <td>233</td>\n",
       "      <td>87.0</td>\n",
       "      <td>52.365087</td>\n",
       "      <td>4.893541</td>\n",
       "    </tr>\n",
       "    <tr>\n",
       "      <th>3</th>\n",
       "      <td>25428</td>\n",
       "      <td>https://www.airbnb.com/rooms/25428</td>\n",
       "      <td>$125.00</td>\n",
       "      <td>Lovely apt in City Centre (Jordaan)</td>\n",
       "      <td>Grachtengordel</td>\n",
       "      <td>1.0</td>\n",
       "      <td>1.0</td>\n",
       "      <td>Apartment</td>\n",
       "      <td>3</td>\n",
       "      <td>1</td>\n",
       "      <td>100.0</td>\n",
       "      <td>52.373114</td>\n",
       "      <td>4.883668</td>\n",
       "    </tr>\n",
       "    <tr>\n",
       "      <th>4</th>\n",
       "      <td>27886</td>\n",
       "      <td>https://www.airbnb.com/rooms/27886</td>\n",
       "      <td>$150.00</td>\n",
       "      <td>Romantic, stylish B&amp;B houseboat in canal district</td>\n",
       "      <td>Westelijke Eilanden</td>\n",
       "      <td>1.0</td>\n",
       "      <td>1.0</td>\n",
       "      <td>Houseboat</td>\n",
       "      <td>2</td>\n",
       "      <td>171</td>\n",
       "      <td>99.0</td>\n",
       "      <td>52.386727</td>\n",
       "      <td>4.892078</td>\n",
       "    </tr>\n",
       "  </tbody>\n",
       "</table>\n",
       "</div>"
      ],
      "text/plain": [
       "      id                         listing_url    price  \\\n",
       "0   2818   https://www.airbnb.com/rooms/2818   $59.00   \n",
       "1   3209   https://www.airbnb.com/rooms/3209  $160.00   \n",
       "2  20168  https://www.airbnb.com/rooms/20168   $80.00   \n",
       "3  25428  https://www.airbnb.com/rooms/25428  $125.00   \n",
       "4  27886  https://www.airbnb.com/rooms/27886  $150.00   \n",
       "\n",
       "                                                name  \\\n",
       "0           Quiet Garden View Room & Super Fast WiFi   \n",
       "1                  Quiet apt near center, great view   \n",
       "2         100%Centre-Studio 1 Private Floor/Bathroom   \n",
       "3                Lovely apt in City Centre (Jordaan)   \n",
       "4  Romantic, stylish B&B houseboat in canal district   \n",
       "\n",
       "                    neighbourhood  beds  bathrooms property_type  \\\n",
       "0                  Indische Buurt   2.0        1.5     Apartment   \n",
       "1  Spaarndammer en Zeeheldenbuurt   2.0        1.0     Apartment   \n",
       "2                  Grachtengordel   1.0        1.0     Townhouse   \n",
       "3                  Grachtengordel   1.0        1.0     Apartment   \n",
       "4             Westelijke Eilanden   1.0        1.0     Houseboat   \n",
       "\n",
       "   accommodates  number_of_reviews  review_scores_rating   latitude  longitude  \n",
       "0             2                248                  97.0  52.365755   4.941419  \n",
       "1             5                 42                  96.0  52.390225   4.873924  \n",
       "2             2                233                  87.0  52.365087   4.893541  \n",
       "3             3                  1                 100.0  52.373114   4.883668  \n",
       "4             2                171                  99.0  52.386727   4.892078  "
      ]
     },
     "execution_count": 7,
     "metadata": {},
     "output_type": "execute_result"
    }
   ],
   "source": [
    "listings.head() #Let's Peep the Dataset"
   ]
  },
  {
   "cell_type": "markdown",
   "metadata": {},
   "source": [
    "----------------------------------------------------------------------------------------------------------------------"
   ]
  },
  {
   "cell_type": "markdown",
   "metadata": {},
   "source": [
    "## Cleaning and Modifying the Data / Setting Limits"
   ]
  },
  {
   "cell_type": "code",
   "execution_count": 8,
   "metadata": {
    "scrolled": true
   },
   "outputs": [
    {
     "data": {
      "text/plain": [
       "id                         0\n",
       "listing_url                0\n",
       "price                      0\n",
       "name                      38\n",
       "neighbourhood           1653\n",
       "beds                       7\n",
       "bathrooms                 10\n",
       "property_type              0\n",
       "accommodates               0\n",
       "number_of_reviews          0\n",
       "review_scores_rating    2639\n",
       "latitude                   0\n",
       "longitude                  0\n",
       "dtype: int64"
      ]
     },
     "execution_count": 8,
     "metadata": {},
     "output_type": "execute_result"
    }
   ],
   "source": [
    "# Check missing values\n",
    "listings.isnull().sum()"
   ]
  },
  {
   "cell_type": "code",
   "execution_count": 9,
   "metadata": {
    "scrolled": true
   },
   "outputs": [],
   "source": [
    "#Clean Data with null values = beds, bathrooms \n",
    "listings.loc[:, 'beds'] = listings['beds'].dropna()\n",
    "listings.loc[:, 'bathrooms'] = listings['bathrooms'].dropna()"
   ]
  },
  {
   "cell_type": "code",
   "execution_count": 10,
   "metadata": {},
   "outputs": [],
   "source": [
    "#0.0 should also be treated as null and therefore should also be dropped\n",
    "listings.drop(listings[listings['beds'] == 0].index, inplace = True)\n",
    "listings.drop(listings[listings['bathrooms'] == 0].index, inplace = True)"
   ]
  },
  {
   "cell_type": "markdown",
   "metadata": {},
   "source": [
    "### Setting a filter which makes sure the listing is indeed for a couple\n",
    "The 'accommodates' column indicates the maximum and minimum amount of guests a listing can hold. In our case, let's set it exactly to two."
   ]
  },
  {
   "cell_type": "code",
   "execution_count": 11,
   "metadata": {},
   "outputs": [
    {
     "name": "stdout",
     "output_type": "stream",
     "text": [
      "In total, we have 10821 listings that fall within the couple criteria\n"
     ]
    }
   ],
   "source": [
    "coupleMask = listings['accommodates'] == 2\n",
    "listings = listings[coupleMask]\n",
    "listingcount = listings['id'].count()\n",
    "print(f'In total, we have {listingcount} listings that fall within the couple criteria')"
   ]
  },
  {
   "cell_type": "markdown",
   "metadata": {},
   "source": [
    "## Cleaning / Modifying the Price Column"
   ]
  },
  {
   "cell_type": "code",
   "execution_count": 12,
   "metadata": {},
   "outputs": [],
   "source": [
    "# Convert price from object into int\n",
    "listings.loc[:, \"price\"] = listings[\"price\"].replace('[\\$,]', '', regex=True).astype(float)"
   ]
  },
  {
   "cell_type": "code",
   "execution_count": 13,
   "metadata": {},
   "outputs": [],
   "source": [
    "# Omit Data that has 0 for price value \n",
    "aboveZeroFilter = listings['price'] > 1\n",
    "listings = listings[aboveZeroFilter]"
   ]
  },
  {
   "cell_type": "code",
   "execution_count": 14,
   "metadata": {},
   "outputs": [],
   "source": [
    "#Let's convert the price from Dollars to Euros\n",
    "#Let's also creat another price column - Indonesian Rupiah (personal use!)\n",
    "\n",
    "from currency_converter import CurrencyConverter\n",
    "c = CurrencyConverter()\n",
    "\n",
    "def dollar_to_euro(x):\n",
    "    return round(c.convert(x, 'USD','EUR'), 1)\n",
    "\n",
    "def euro_to_idr(x):\n",
    "    return round(c.convert(x, 'EUR','IDR'))\n",
    "\n",
    "listings.loc[:, 'price'] = listings.loc[:, 'price'].apply(dollar_to_euro)\n",
    "listings.loc[:, 'price_idr'] = listings.loc[:, 'price'].apply(euro_to_idr)"
   ]
  },
  {
   "cell_type": "markdown",
   "metadata": {},
   "source": [
    "### Checking for outliers"
   ]
  },
  {
   "cell_type": "code",
   "execution_count": 15,
   "metadata": {},
   "outputs": [
    {
     "data": {
      "text/plain": [
       "<AxesSubplot:xlabel='price'>"
      ]
     },
     "execution_count": 15,
     "metadata": {},
     "output_type": "execute_result"
    },
    {
     "data": {
      "image/png": "[encoded data removed]",
      "text/plain": [
       "<Figure size 720x360 with 1 Axes>"
      ]
     },
     "metadata": {},
     "output_type": "display_data"
    }
   ],
   "source": [
    "plt.figure(figsize = (10,5))\n",
    "sns.boxplot(data=listings, x='price')"
   ]
  },
  {
   "cell_type": "markdown",
   "metadata": {},
   "source": [
    "As we can see, there are a bunch of outliers. It never ceases to amaze me how there is actually a couple of listings above 8000€. "
   ]
  },
  {
   "cell_type": "markdown",
   "metadata": {},
   "source": [
    "One may argue that since we are performing analysis only for a target that is 'broke', we can just omit prices that do not fall within a certain range - but hold on - *just what do you mean by 'broke?'* This is of course relative to every person, but to keep it as unambigious as possible, in this analysis I will work with **what's below the 25th Percentile:**"
   ]
  },
  {
   "cell_type": "code",
   "execution_count": 16,
   "metadata": {},
   "outputs": [
    {
     "name": "stdout",
     "output_type": "stream",
     "text": [
      "We will define the price limit as... 81€\n",
      "Split that in two, and you get 40.5€ per couple..\n",
      "Convert that into IDR, and you get RP 617662.26 per couple..\n"
     ]
    }
   ],
   "source": [
    "brokelimit = round(listings['price'].quantile(q=0.25))\n",
    "print(f'We will define the price limit as... {brokelimit}€')\n",
    "print(f'Split that in two, and you get {brokelimit/2}€ per couple..')\n",
    "\n",
    "eur_to_idr = c.convert(brokelimit/2, 'EUR','IDR')\n",
    "print(f'Convert that into IDR, and you get RP {eur_to_idr} per couple..')"
   ]
  },
  {
   "cell_type": "markdown",
   "metadata": {},
   "source": [
    "Personally, I think that the prices above are a good enough limit on what constitutes as a 'broke couple' price maximum."
   ]
  },
  {
   "cell_type": "code",
   "execution_count": 17,
   "metadata": {},
   "outputs": [
    {
     "name": "stdout",
     "output_type": "stream",
     "text": [
      "In total, we have 2699 listings that fall within the price range\n"
     ]
    }
   ],
   "source": [
    "price_mask = listings[\"price\"] <= brokelimit\n",
    "listings = listings[price_mask]\n",
    "listingamount = listings['price'].count()\n",
    "print(f'In total, we have {listingamount} listings that fall within the price range')"
   ]
  },
  {
   "cell_type": "code",
   "execution_count": 18,
   "metadata": {},
   "outputs": [
    {
     "data": {
      "text/plain": [
       "<AxesSubplot:xlabel='price'>"
      ]
     },
     "execution_count": 18,
     "metadata": {},
     "output_type": "execute_result"
    },
    {
     "data": {
      "image/png": "[encoded data removed]",
      "text/plain": [
       "<Figure size 720x360 with 1 Axes>"
      ]
     },
     "metadata": {},
     "output_type": "display_data"
    }
   ],
   "source": [
    "#Let's check the boxplot again - looks great to me!\n",
    "plt.figure(figsize = (10,5))\n",
    "sns.boxplot(data=listings, x='price')"
   ]
  },
  {
   "cell_type": "markdown",
   "metadata": {},
   "source": [
    "**What's the price we can expect on average?**"
   ]
  },
  {
   "cell_type": "code",
   "execution_count": 19,
   "metadata": {},
   "outputs": [
    {
     "name": "stdout",
     "output_type": "stream",
     "text": [
      "The average price, when setting the price limit of the data to the 25th Percentile is 66$\n",
      "Split that in two, and you get 33.0€ per couple..\n",
      "Convert that into IDR, and you get RP-503280.36 per couple..\n"
     ]
    }
   ],
   "source": [
    "pricemean = round(listings['price'].mean())\n",
    "print(f'The average price, when setting the price limit of the data to the 25th Percentile is {pricemean}' + '$')\n",
    "print(f'Split that in two, and you get {pricemean/2}€ per couple..')\n",
    "\n",
    "eur_to_idr = c.convert(pricemean/2, 'EUR','IDR')\n",
    "print(f'Convert that into IDR, and you get RP-{eur_to_idr} per couple..')"
   ]
  },
  {
   "cell_type": "markdown",
   "metadata": {},
   "source": [
    "Let's view a histogram to visualize the price distribution:"
   ]
  },
  {
   "cell_type": "code",
   "execution_count": 27,
   "metadata": {
    "scrolled": false
   },
   "outputs": [
    {
     "data": {
      "text/plain": [
       "<AxesSubplot:xlabel='price', ylabel='Count'>"
      ]
     },
     "execution_count": 27,
     "metadata": {},
     "output_type": "execute_result"
    },
    {
     "data": {
      "image/png": "[encoded data removed]",
      "text/plain": [
       "<Figure size 792x432 with 1 Axes>"
      ]
     },
     "metadata": {},
     "output_type": "display_data"
    }
   ],
   "source": [
    "plt.figure(figsize=(11,6))\n",
    "sns.histplot(data=listings, x='price', kde = True, bins=20)"
   ]
  },
  {
   "cell_type": "markdown",
   "metadata": {},
   "source": [
    "----------------------------------------------------------------------------------------------------------------------"
   ]
  },
  {
   "cell_type": "markdown",
   "metadata": {},
   "source": [
    "# Exploratory Data Analysis"
   ]
  },
  {
   "cell_type": "markdown",
   "metadata": {},
   "source": [
    "### A Closer Investigation of Neighbourhoods\n",
    "Which Neighbourhood falls into our criteria the most? In other words, which neighbourhood has the most listings when it came to fitting into the criteria of a broke couple?"
   ]
  },
  {
   "cell_type": "code",
   "execution_count": 21,
   "metadata": {
    "scrolled": false
   },
   "outputs": [
    {
     "data": {
      "text/plain": [
       "Text(0.5, 0, 'Neighbourhood Count')"
      ]
     },
     "execution_count": 21,
     "metadata": {},
     "output_type": "execute_result"
    },
    {
     "data": {
      "image/png": "[encoded data removed]",
      "text/plain": [
       "<Figure size 864x504 with 1 Axes>"
      ]
     },
     "metadata": {},
     "output_type": "display_data"
    }
   ],
   "source": [
    "plt.figure(figsize=(12,7))\n",
    "listings['neighbourhood'].value_counts().head(10).plot(kind='barh', color='red').invert_yaxis()\n",
    "plt.yticks(fontsize = 12, rotation = 0)\n",
    "plt.title('Most Frequent Friendly-To-Broke-Couples Neighbourhoods (Top 10)', fontsize= 15, fontweight = 'bold', pad = 20)\n",
    "plt.xlabel('Neighbourhood Count', labelpad=20)"
   ]
  },
  {
   "cell_type": "markdown",
   "metadata": {},
   "source": [
    "Looks like the neighbourhood of Oud-West takes the top spot by a big margin - 500 listings in total. This is no surprise because that area is primarily filled with residential apartments to begin with. "
   ]
  },
  {
   "cell_type": "code",
   "execution_count": 48,
   "metadata": {},
   "outputs": [
    {
     "name": "stdout",
     "output_type": "stream",
     "text": [
      "Average price for a listing in Oud-West is 68€\n",
      "Split that in two, and you get 34.0€ per couple..\n",
      "Convert that into IDR, and you get RP 518531.28 per couple..\n"
     ]
    }
   ],
   "source": [
    "#Checking out the price mean for oud-west\n",
    "oud_west_mask = listings['neighbourhood'] == 'Oud-West'\n",
    "oud_west = listings[oud_west_mask]\n",
    "pricemean = round(oud_west['price'].mean())\n",
    "print(f\"Average price for a listing in Oud-West is {pricemean}€\")\n",
    "print(f'Split that in two, and you get {pricemean/2}€ per couple..')\n",
    "\n",
    "eur_to_idr = c.convert(pricemean/2, 'EUR','IDR')\n",
    "print(f'Convert that into IDR, and you get RP {eur_to_idr} per couple..')"
   ]
  },
  {
   "cell_type": "markdown",
   "metadata": {},
   "source": [
    "------------------------------------------------------------------------------------------------------"
   ]
  },
  {
   "cell_type": "markdown",
   "metadata": {},
   "source": [
    "# Price Above Everything \n",
    "However! If you are a *truly broke* couple, you probably would prioritise price above everything else, correct? Let us then ask, which areas have on average, the *cheapest* AirBnB listings when it comes to accommodating two people:"
   ]
  },
  {
   "cell_type": "code",
   "execution_count": 38,
   "metadata": {
    "scrolled": false
   },
   "outputs": [
    {
     "data": {
      "text/plain": [
       "Text(0.5, 1.0, 'Top 10 Areas with Cheapest Listings (On Average)')"
      ]
     },
     "execution_count": 38,
     "metadata": {},
     "output_type": "execute_result"
    },
    {
     "data": {
      "image/png": "[encoded data removed]",
      "text/plain": [
       "<Figure size 864x504 with 1 Axes>"
      ]
     },
     "metadata": {},
     "output_type": "display_data"
    }
   ],
   "source": [
    "gbo = listings.groupby('neighbourhood')\n",
    "gboPriceMean = gbo['price'].mean().nsmallest(10)\n",
    "\n",
    "plt.figure(figsize=(12,7))\n",
    "gboPriceMean.plot(kind='barh', color='green').invert_yaxis()\n",
    "plt.yticks(fontsize = 12, rotation = 0)\n",
    "plt.ylabel(None)\n",
    "plt.xlabel('Price Average', labelpad=20, fontweight='bold')\n",
    "plt.title('Top 10 Areas with Cheapest Listings (On Average)', fontsize= 15, fontweight = 'bold', pad = 20)"
   ]
  },
  {
   "cell_type": "code",
   "execution_count": 47,
   "metadata": {
    "scrolled": true
   },
   "outputs": [
    {
     "name": "stdout",
     "output_type": "stream",
     "text": [
      "Average price for a listing in Banne Buiksloot is 57€\n",
      "Split that in two, and you get 28.5€ per couple..\n",
      "Convert that into IDR, and you get RP 434651 per couple..\n"
     ]
    }
   ],
   "source": [
    "#Checking out the price mean for Banne Buiksloot\n",
    "bb_mask = listings['neighbourhood'] == 'Banne Buiksloot'\n",
    "bb = listings[bb_mask]\n",
    "pricemean = round(bb['price'].mean())\n",
    "print(f\"Average price for a listing in Banne Buiksloot is {pricemean}€\")\n",
    "print(f'Split that in two, and you get {pricemean/2}€ per couple..')\n",
    "\n",
    "eur_to_idr = c.convert(pricemean/2, 'EUR','IDR')\n",
    "print(f'Convert that into IDR, and you get RP {round(eur_to_idr)} per couple..')"
   ]
  },
  {
   "cell_type": "markdown",
   "metadata": {},
   "source": [
    "Unsuprisingly all of the areas are outside the city center - this is no surprise. In exchange for a cheaper listing we are going to have to sacrifice the convenience of being near the large tourist attractions. We should also check the frequency of listings in these neighbourhoods, which is what we'll do below:"
   ]
  },
  {
   "cell_type": "code",
   "execution_count": 42,
   "metadata": {},
   "outputs": [
    {
     "data": {
      "text/plain": [
       "Text(0.5, 1.0, 'Frequency of Listings in Cheapest Neighbourhoods')"
      ]
     },
     "execution_count": 42,
     "metadata": {},
     "output_type": "execute_result"
    },
    {
     "data": {
      "image/png": "[encoded data removed]",
      "text/plain": [
       "<Figure size 864x504 with 1 Axes>"
      ]
     },
     "metadata": {},
     "output_type": "display_data"
    }
   ],
   "source": [
    "colnames = ['Nieuwendammerham', 'Banne Buiksloot', 'Slotervaart', 'Kadoelen', 'Slotermeer-Zuidwest',\n",
    "           'Osdorp', 'Nieuwendam-Noord', 'Slotermeer-Noordoost', 'Buikslotermeer',\n",
    "            'Nieuwendammerdijk en Buiksloterdijk']\n",
    "\n",
    "cheapest_neighbourhoods = listings[listings['neighbourhood'].isin(colnames)]\n",
    "\n",
    "plt.figure(figsize=(12,7))\n",
    "cheapest_neighbourhoods['neighbourhood'].value_counts().plot(kind='barh').invert_yaxis()\n",
    "plt.yticks(fontsize = 12, rotation = 0)\n",
    "plt.ylabel(None)\n",
    "plt.xlabel('Count', labelpad=20, fontweight='bold')\n",
    "plt.title('Frequency of Listings in Cheapest Neighbourhoods', \n",
    "          fontsize= 15, fontweight = 'bold', pad = 20)"
   ]
  },
  {
   "cell_type": "markdown",
   "metadata": {},
   "source": [
    "### Investigating, and filtering the neighbourhoods above in conjunction with reviews\n",
    "What about it's score reviews? Does prioritising price mean we have to sacrifice not only the convenience of being outside the city center, but also having to deal with a bad listing in general? "
   ]
  },
  {
   "cell_type": "markdown",
   "metadata": {},
   "source": [
    "First of all we need to define what constitutes as a bad listing. We of course cannot tell for sure because we haven't stayed in any of these listings. I think a better way to estimate this is to not use the word 'bad' but 'shady' instead. \n",
    "\n",
    "Why is this the case? Because it is a better, more realistic metric for the purposes of this EDA. All of us have a sense of intuitive suspicion when trying to choose a listing. Two measures that are the most popular are:\n",
    "* When the number of reviews is 0 or below a certain number (i'll go with 10 just to be safe)  \n",
    "* When the review score rating is low "
   ]
  },
  {
   "cell_type": "markdown",
   "metadata": {},
   "source": [
    "Let's first omit listings which has less than 10 reviews"
   ]
  },
  {
   "cell_type": "code",
   "execution_count": 84,
   "metadata": {},
   "outputs": [],
   "source": [
    "safe_metric_1 = cheapest_neighbourhoods['number_of_reviews'] > 10\n",
    "cheapest_neighbourhoods = cheapest_neighbourhoods[safe_metric_1]"
   ]
  },
  {
   "cell_type": "markdown",
   "metadata": {},
   "source": [
    "Next, we'll decide what \"low\" is in review scores rating"
   ]
  },
  {
   "cell_type": "code",
   "execution_count": 73,
   "metadata": {},
   "outputs": [
    {
     "data": {
      "text/plain": [
       "count    263.000000\n",
       "mean      92.365019\n",
       "std        9.318568\n",
       "min       20.000000\n",
       "25%       90.000000\n",
       "50%       95.000000\n",
       "75%       98.000000\n",
       "max      100.000000\n",
       "Name: review_scores_rating, dtype: float64"
      ]
     },
     "execution_count": 73,
     "metadata": {},
     "output_type": "execute_result"
    }
   ],
   "source": [
    "cheapest_neighbourhoods['review_scores_rating'].describe()"
   ]
  },
  {
   "cell_type": "code",
   "execution_count": 75,
   "metadata": {
    "scrolled": false
   },
   "outputs": [
    {
     "data": {
      "text/plain": [
       "<AxesSubplot:xlabel='review_scores_rating'>"
      ]
     },
     "execution_count": 75,
     "metadata": {},
     "output_type": "execute_result"
    },
    {
     "data": {
      "image/png": "[encoded data removed]",
      "text/plain": [
       "<Figure size 720x360 with 1 Axes>"
      ]
     },
     "metadata": {},
     "output_type": "display_data"
    }
   ],
   "source": [
    "plt.figure(figsize = (10,5))\n",
    "sns.boxplot(data=cheapest_neighbourhoods, x = 'review_scores_rating')"
   ]
  },
  {
   "cell_type": "code",
   "execution_count": 72,
   "metadata": {},
   "outputs": [
    {
     "data": {
      "text/plain": [
       "<AxesSubplot:xlabel='review_scores_rating', ylabel='Density'>"
      ]
     },
     "execution_count": 72,
     "metadata": {},
     "output_type": "execute_result"
    },
    {
     "data": {
      "image/png": "[encoded data removed]",
      "text/plain": [
       "<Figure size 792x432 with 1 Axes>"
      ]
     },
     "metadata": {},
     "output_type": "display_data"
    }
   ],
   "source": [
    "plt.figure(figsize=(11,6))\n",
    "sns.kdeplot(data=cheapest_neighbourhoods, x='review_scores_rating')"
   ]
  },
  {
   "cell_type": "markdown",
   "metadata": {},
   "source": [
    "Judging by the description and the two graphs above, it is actually looking quite good because most of the listings that fall within our criteria have pretty good review scores - 92 stars on average. Constituting what a \"low star review\" proves to be quite difficult. For now, i think a safe bet is to omit the ones below 80, since we have such a high standard to begin with."
   ]
  },
  {
   "cell_type": "code",
   "execution_count": 86,
   "metadata": {},
   "outputs": [],
   "source": [
    "safe_metric_2 = cheapest_neighbourhoods['review_scores_rating'] > 80\n",
    "cheapest_neighbourhoods = cheapest_neighbourhoods[safe_metric_2]"
   ]
  },
  {
   "cell_type": "markdown",
   "metadata": {},
   "source": [
    "Great! Now we have a (hopefully) safe, reliable list of listings for broke couples who truly prioritise price above everything else. "
   ]
  },
  {
   "cell_type": "code",
   "execution_count": 87,
   "metadata": {},
   "outputs": [
    {
     "data": {
      "text/html": [
       "<div>\n",
       "<style scoped>\n",
       "    .dataframe tbody tr th:only-of-type {\n",
       "        vertical-align: middle;\n",
       "    }\n",
       "\n",
       "    .dataframe tbody tr th {\n",
       "        vertical-align: top;\n",
       "    }\n",
       "\n",
       "    .dataframe thead th {\n",
       "        text-align: right;\n",
       "    }\n",
       "</style>\n",
       "<table border=\"1\" class=\"dataframe\">\n",
       "  <thead>\n",
       "    <tr style=\"text-align: right;\">\n",
       "      <th></th>\n",
       "      <th>id</th>\n",
       "      <th>listing_url</th>\n",
       "      <th>price</th>\n",
       "      <th>name</th>\n",
       "      <th>neighbourhood</th>\n",
       "      <th>beds</th>\n",
       "      <th>bathrooms</th>\n",
       "      <th>property_type</th>\n",
       "      <th>accommodates</th>\n",
       "      <th>number_of_reviews</th>\n",
       "      <th>review_scores_rating</th>\n",
       "      <th>latitude</th>\n",
       "      <th>longitude</th>\n",
       "      <th>price_idr</th>\n",
       "    </tr>\n",
       "  </thead>\n",
       "  <tbody>\n",
       "    <tr>\n",
       "      <th>59</th>\n",
       "      <td>97221</td>\n",
       "      <td>https://www.airbnb.com/rooms/97221</td>\n",
       "      <td>37.9</td>\n",
       "      <td>Beautiful and spacious room</td>\n",
       "      <td>Slotervaart</td>\n",
       "      <td>2.0</td>\n",
       "      <td>1.0</td>\n",
       "      <td>Bed and breakfast</td>\n",
       "      <td>2</td>\n",
       "      <td>141</td>\n",
       "      <td>89.0</td>\n",
       "      <td>52.349103</td>\n",
       "      <td>4.836112</td>\n",
       "      <td>578010</td>\n",
       "    </tr>\n",
       "    <tr>\n",
       "      <th>258</th>\n",
       "      <td>483779</td>\n",
       "      <td>https://www.airbnb.com/rooms/483779</td>\n",
       "      <td>68.1</td>\n",
       "      <td>Spacious studio apartment in A'dam</td>\n",
       "      <td>Slotervaart</td>\n",
       "      <td>1.0</td>\n",
       "      <td>1.0</td>\n",
       "      <td>Apartment</td>\n",
       "      <td>2</td>\n",
       "      <td>38</td>\n",
       "      <td>98.0</td>\n",
       "      <td>52.349316</td>\n",
       "      <td>4.831327</td>\n",
       "      <td>1038588</td>\n",
       "    </tr>\n",
       "    <tr>\n",
       "      <th>283</th>\n",
       "      <td>528594</td>\n",
       "      <td>https://www.airbnb.com/rooms/528594</td>\n",
       "      <td>75.7</td>\n",
       "      <td>Connect-Inn: Clear &amp; Cheerful</td>\n",
       "      <td>Slotervaart</td>\n",
       "      <td>1.0</td>\n",
       "      <td>1.0</td>\n",
       "      <td>Apartment</td>\n",
       "      <td>2</td>\n",
       "      <td>72</td>\n",
       "      <td>96.0</td>\n",
       "      <td>52.358674</td>\n",
       "      <td>4.824760</td>\n",
       "      <td>1154495</td>\n",
       "    </tr>\n",
       "    <tr>\n",
       "      <th>332</th>\n",
       "      <td>582280</td>\n",
       "      <td>https://www.airbnb.com/rooms/582280</td>\n",
       "      <td>30.3</td>\n",
       "      <td>Cats'n'Rooms, Amsterdam West</td>\n",
       "      <td>Slotermeer-Zuidwest</td>\n",
       "      <td>1.0</td>\n",
       "      <td>1.5</td>\n",
       "      <td>Apartment</td>\n",
       "      <td>2</td>\n",
       "      <td>241</td>\n",
       "      <td>87.0</td>\n",
       "      <td>52.376965</td>\n",
       "      <td>4.812768</td>\n",
       "      <td>462103</td>\n",
       "    </tr>\n",
       "    <tr>\n",
       "      <th>359</th>\n",
       "      <td>613088</td>\n",
       "      <td>https://www.airbnb.com/rooms/613088</td>\n",
       "      <td>73.8</td>\n",
       "      <td>Your own cottage in the countryside</td>\n",
       "      <td>Buikslotermeer</td>\n",
       "      <td>1.0</td>\n",
       "      <td>1.0</td>\n",
       "      <td>Bed and breakfast</td>\n",
       "      <td>2</td>\n",
       "      <td>310</td>\n",
       "      <td>97.0</td>\n",
       "      <td>52.409915</td>\n",
       "      <td>4.962911</td>\n",
       "      <td>1125518</td>\n",
       "    </tr>\n",
       "  </tbody>\n",
       "</table>\n",
       "</div>"
      ],
      "text/plain": [
       "         id                          listing_url  price  \\\n",
       "59    97221   https://www.airbnb.com/rooms/97221   37.9   \n",
       "258  483779  https://www.airbnb.com/rooms/483779   68.1   \n",
       "283  528594  https://www.airbnb.com/rooms/528594   75.7   \n",
       "332  582280  https://www.airbnb.com/rooms/582280   30.3   \n",
       "359  613088  https://www.airbnb.com/rooms/613088   73.8   \n",
       "\n",
       "                                    name        neighbourhood  beds  \\\n",
       "59           Beautiful and spacious room          Slotervaart   2.0   \n",
       "258   Spacious studio apartment in A'dam          Slotervaart   1.0   \n",
       "283        Connect-Inn: Clear & Cheerful          Slotervaart   1.0   \n",
       "332         Cats'n'Rooms, Amsterdam West  Slotermeer-Zuidwest   1.0   \n",
       "359  Your own cottage in the countryside       Buikslotermeer   1.0   \n",
       "\n",
       "     bathrooms      property_type  accommodates  number_of_reviews  \\\n",
       "59         1.0  Bed and breakfast             2                141   \n",
       "258        1.0          Apartment             2                 38   \n",
       "283        1.0          Apartment             2                 72   \n",
       "332        1.5          Apartment             2                241   \n",
       "359        1.0  Bed and breakfast             2                310   \n",
       "\n",
       "     review_scores_rating   latitude  longitude  price_idr  \n",
       "59                   89.0  52.349103   4.836112     578010  \n",
       "258                  98.0  52.349316   4.831327    1038588  \n",
       "283                  96.0  52.358674   4.824760    1154495  \n",
       "332                  87.0  52.376965   4.812768     462103  \n",
       "359                  97.0  52.409915   4.962911    1125518  "
      ]
     },
     "execution_count": 87,
     "metadata": {},
     "output_type": "execute_result"
    }
   ],
   "source": [
    "cheapest_neighbourhoods.head()"
   ]
  },
  {
   "cell_type": "markdown",
   "metadata": {},
   "source": [
    "So - if you are in a broke couple situation and you prioritised price above everything else, the information above will probably suffice as a starting point in your search for a listing. \n",
    "\n",
    "Personally I'm quite satisfied with the findings above. I used to live in Osdorp and it's really not a bad area - lots of places you can hang around in. The same goes for slotervaart. If I had a Girlfriend (imaginary one at the moment) and we were on a budget, I wouldn't mind staying in these listings. "
   ]
  },
  {
   "cell_type": "markdown",
   "metadata": {},
   "source": [
    "### Listing Randomiser"
   ]
  },
  {
   "cell_type": "markdown",
   "metadata": {},
   "source": [
    "Let's be honest though. Even though this is a starting point, some of us are going to spend more time pickling with what we have rather than just booking a place immediately. Much like spending a couple of hours deciding what to watch on your favorite streaming service and ending up watching a 20 minute episode of The Office. So i've created a randomiser to pick a listing for people like these!\n",
    "\n",
    "* Warning: This dataset is outdated. Some of the listings have been taken off AirBnB and are therefore not there anymore. If that is the case, shuffle again"
   ]
  },
  {
   "cell_type": "code",
   "execution_count": 146,
   "metadata": {},
   "outputs": [],
   "source": [
    "def shuffle():\n",
    "    randomlisting = cheapest_neighbourhoods.sample()\n",
    "    return randomlisting['listing_url']"
   ]
  },
  {
   "cell_type": "code",
   "execution_count": 153,
   "metadata": {},
   "outputs": [
    {
     "data": {
      "text/plain": [
       "258    https://www.airbnb.com/rooms/483779\n",
       "Name: listing_url, dtype: object"
      ]
     },
     "execution_count": 153,
     "metadata": {},
     "output_type": "execute_result"
    }
   ],
   "source": [
    "shuffle()"
   ]
  }
 ],
 "metadata": {
  "kernelspec": {
   "display_name": "Python 3",
   "language": "python",
   "name": "python3"
  },
  "language_info": {
   "codemirror_mode": {
    "name": "ipython",
    "version": 3
   },
   "file_extension": ".py",
   "mimetype": "text/x-python",
   "name": "python",
   "nbconvert_exporter": "python",
   "pygments_lexer": "ipython3",
   "version": "3.8.5"
  }
 },
 "nbformat": 4,
 "nbformat_minor": 4
}
