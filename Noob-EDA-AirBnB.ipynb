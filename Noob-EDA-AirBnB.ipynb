{
 "cells": [
  {
   "cell_type": "markdown",
   "metadata": {},
   "source": [
    "# Noob Data Project - Exploring AirBnB Data for Broke Couples\n",
    "### Background Story and Premise:\n",
    "Throughout my time studying in Amsterdam, I met and saw a lot of tourists. More than I could bargain for. This was because I lived near a very tourist-dense area where there were loads of international visitors and barely any Dutch people. (If you're asking how I managed to find an apartment to rent in this area, let's just say I got unbelievably lucky)\n",
    "\n",
    "A category of tourists that I normally bumped into, besides families and drunken British boys in their mid 30's, were young couples. Usually hailing from other European countries, they wanted to temporarily escape their home, flying away to the most romantic honeymoon - and where else to spend this endeavour, if not for the one and only, premium adult playground that is Amsterdam?\n",
    "\n",
    "There is a problem for these young couples, however. Amsterdam is a relatively expensive city. And when you're young, you're probably not going to be in the right spectrum when it comes to financial wellness - constantly asking about what this costs compared to that (well, unless you have rich parents or bought bitcoin back in 2012) - you're most likely going to be *broke*.\n",
    "\n",
    "### Project Aim and Deliverable:\n",
    "\n",
    "This brief project will attempt to conduct an exploratory data analysis for this target market. We will try and flesh out the best options for a couple short on cash looking to rent an Airbnb in the city of Amsterdam. \n",
    "\n",
    "The final deliverable however, will specifically come up with a tailored marketing advice pertaining to broke couples. Relevant stakeholders may be interested in finding out variables and trends which could prove useful in developing strategies for conversion. We may simplify the end goal by answering this question below: \n",
    "\n",
    "**What advice would I give the AirBnB marketing team, if their objective was to create advertisements for broke couples wanting to visit Amsterdam?**\n",
    "\n"
   ]
  },
  {
   "cell_type": "code",
   "execution_count": 1,
   "metadata": {},
   "outputs": [],
   "source": [
    "import pandas as pd \n",
    "import seaborn as sns \n",
    "import matplotlib.pyplot as plt\n",
    "plt.style.use('seaborn')"
   ]
  },
  {
   "cell_type": "code",
   "execution_count": 8,
   "metadata": {},
   "outputs": [],
   "source": [
    "listings_raw = pd.read_csv(\"Airbnb-data/listings_details.csv\", low_memory= False)"
   ]
  },
  {
   "cell_type": "markdown",
   "metadata": {},
   "source": [
    "Since the dataset has too much columns, let's narrow it down to the most important ones"
   ]
  },
  {
   "cell_type": "code",
   "execution_count": 9,
   "metadata": {},
   "outputs": [],
   "source": [
    "colnames = [\"id\", \"listing_url\", \"price\",\"review_scores_rating\", \"number_of_reviews\", \"name\",\"neighbourhood\",\"beds\",\n",
    "            \"bathrooms\", \"property_type\",\"room_type\", \"accommodates\", \"minimum_nights\", \"availability_365\",\n",
    "            \"latitude\", \"longitude\"]\n",
    "\n",
    "listingsv1 = listings_raw[colnames]"
   ]
  },
  {
   "cell_type": "code",
   "execution_count": 10,
   "metadata": {},
   "outputs": [
    {
     "data": {
      "text/html": [
       "<div>\n",
       "<style scoped>\n",
       "    .dataframe tbody tr th:only-of-type {\n",
       "        vertical-align: middle;\n",
       "    }\n",
       "\n",
       "    .dataframe tbody tr th {\n",
       "        vertical-align: top;\n",
       "    }\n",
       "\n",
       "    .dataframe thead th {\n",
       "        text-align: right;\n",
       "    }\n",
       "</style>\n",
       "<table border=\"1\" class=\"dataframe\">\n",
       "  <thead>\n",
       "    <tr style=\"text-align: right;\">\n",
       "      <th></th>\n",
       "      <th>id</th>\n",
       "      <th>listing_url</th>\n",
       "      <th>price</th>\n",
       "      <th>review_scores_rating</th>\n",
       "      <th>number_of_reviews</th>\n",
       "      <th>name</th>\n",
       "      <th>neighbourhood</th>\n",
       "      <th>beds</th>\n",
       "      <th>bathrooms</th>\n",
       "      <th>property_type</th>\n",
       "      <th>room_type</th>\n",
       "      <th>accommodates</th>\n",
       "      <th>minimum_nights</th>\n",
       "      <th>availability_365</th>\n",
       "      <th>latitude</th>\n",
       "      <th>longitude</th>\n",
       "    </tr>\n",
       "  </thead>\n",
       "  <tbody>\n",
       "    <tr>\n",
       "      <th>0</th>\n",
       "      <td>2818</td>\n",
       "      <td>https://www.airbnb.com/rooms/2818</td>\n",
       "      <td>$59.00</td>\n",
       "      <td>97.0</td>\n",
       "      <td>248</td>\n",
       "      <td>Quiet Garden View Room &amp; Super Fast WiFi</td>\n",
       "      <td>Indische Buurt</td>\n",
       "      <td>2.0</td>\n",
       "      <td>1.5</td>\n",
       "      <td>Apartment</td>\n",
       "      <td>Private room</td>\n",
       "      <td>2</td>\n",
       "      <td>3</td>\n",
       "      <td>44</td>\n",
       "      <td>52.365755</td>\n",
       "      <td>4.941419</td>\n",
       "    </tr>\n",
       "    <tr>\n",
       "      <th>1</th>\n",
       "      <td>3209</td>\n",
       "      <td>https://www.airbnb.com/rooms/3209</td>\n",
       "      <td>$160.00</td>\n",
       "      <td>96.0</td>\n",
       "      <td>42</td>\n",
       "      <td>Quiet apt near center, great view</td>\n",
       "      <td>Spaarndammer en Zeeheldenbuurt</td>\n",
       "      <td>2.0</td>\n",
       "      <td>1.0</td>\n",
       "      <td>Apartment</td>\n",
       "      <td>Entire home/apt</td>\n",
       "      <td>5</td>\n",
       "      <td>4</td>\n",
       "      <td>47</td>\n",
       "      <td>52.390225</td>\n",
       "      <td>4.873924</td>\n",
       "    </tr>\n",
       "    <tr>\n",
       "      <th>2</th>\n",
       "      <td>20168</td>\n",
       "      <td>https://www.airbnb.com/rooms/20168</td>\n",
       "      <td>$80.00</td>\n",
       "      <td>87.0</td>\n",
       "      <td>233</td>\n",
       "      <td>100%Centre-Studio 1 Private Floor/Bathroom</td>\n",
       "      <td>Grachtengordel</td>\n",
       "      <td>1.0</td>\n",
       "      <td>1.0</td>\n",
       "      <td>Townhouse</td>\n",
       "      <td>Entire home/apt</td>\n",
       "      <td>2</td>\n",
       "      <td>1</td>\n",
       "      <td>198</td>\n",
       "      <td>52.365087</td>\n",
       "      <td>4.893541</td>\n",
       "    </tr>\n",
       "    <tr>\n",
       "      <th>3</th>\n",
       "      <td>25428</td>\n",
       "      <td>https://www.airbnb.com/rooms/25428</td>\n",
       "      <td>$125.00</td>\n",
       "      <td>100.0</td>\n",
       "      <td>1</td>\n",
       "      <td>Lovely apt in City Centre (Jordaan)</td>\n",
       "      <td>Grachtengordel</td>\n",
       "      <td>1.0</td>\n",
       "      <td>1.0</td>\n",
       "      <td>Apartment</td>\n",
       "      <td>Entire home/apt</td>\n",
       "      <td>3</td>\n",
       "      <td>14</td>\n",
       "      <td>141</td>\n",
       "      <td>52.373114</td>\n",
       "      <td>4.883668</td>\n",
       "    </tr>\n",
       "    <tr>\n",
       "      <th>4</th>\n",
       "      <td>27886</td>\n",
       "      <td>https://www.airbnb.com/rooms/27886</td>\n",
       "      <td>$150.00</td>\n",
       "      <td>99.0</td>\n",
       "      <td>171</td>\n",
       "      <td>Romantic, stylish B&amp;B houseboat in canal district</td>\n",
       "      <td>Westelijke Eilanden</td>\n",
       "      <td>1.0</td>\n",
       "      <td>1.0</td>\n",
       "      <td>Houseboat</td>\n",
       "      <td>Private room</td>\n",
       "      <td>2</td>\n",
       "      <td>2</td>\n",
       "      <td>199</td>\n",
       "      <td>52.386727</td>\n",
       "      <td>4.892078</td>\n",
       "    </tr>\n",
       "  </tbody>\n",
       "</table>\n",
       "</div>"
      ],
      "text/plain": [
       "      id                         listing_url    price  review_scores_rating  \\\n",
       "0   2818   https://www.airbnb.com/rooms/2818   $59.00                  97.0   \n",
       "1   3209   https://www.airbnb.com/rooms/3209  $160.00                  96.0   \n",
       "2  20168  https://www.airbnb.com/rooms/20168   $80.00                  87.0   \n",
       "3  25428  https://www.airbnb.com/rooms/25428  $125.00                 100.0   \n",
       "4  27886  https://www.airbnb.com/rooms/27886  $150.00                  99.0   \n",
       "\n",
       "   number_of_reviews                                               name  \\\n",
       "0                248           Quiet Garden View Room & Super Fast WiFi   \n",
       "1                 42                  Quiet apt near center, great view   \n",
       "2                233         100%Centre-Studio 1 Private Floor/Bathroom   \n",
       "3                  1                Lovely apt in City Centre (Jordaan)   \n",
       "4                171  Romantic, stylish B&B houseboat in canal district   \n",
       "\n",
       "                    neighbourhood  beds  bathrooms property_type  \\\n",
       "0                  Indische Buurt   2.0        1.5     Apartment   \n",
       "1  Spaarndammer en Zeeheldenbuurt   2.0        1.0     Apartment   \n",
       "2                  Grachtengordel   1.0        1.0     Townhouse   \n",
       "3                  Grachtengordel   1.0        1.0     Apartment   \n",
       "4             Westelijke Eilanden   1.0        1.0     Houseboat   \n",
       "\n",
       "         room_type  accommodates  minimum_nights  availability_365   latitude  \\\n",
       "0     Private room             2               3                44  52.365755   \n",
       "1  Entire home/apt             5               4                47  52.390225   \n",
       "2  Entire home/apt             2               1               198  52.365087   \n",
       "3  Entire home/apt             3              14               141  52.373114   \n",
       "4     Private room             2               2               199  52.386727   \n",
       "\n",
       "   longitude  \n",
       "0   4.941419  \n",
       "1   4.873924  \n",
       "2   4.893541  \n",
       "3   4.883668  \n",
       "4   4.892078  "
      ]
     },
     "execution_count": 10,
     "metadata": {},
     "output_type": "execute_result"
    }
   ],
   "source": [
    "listingsv1.head() #Let's Peep the Dataset"
   ]
  },
  {
   "cell_type": "markdown",
   "metadata": {},
   "source": [
    "----------------------------------------------------------------------------------------------------------------------"
   ]
  },
  {
   "cell_type": "markdown",
   "metadata": {},
   "source": [
    "## PLAYGROUND! - Temporary Place to test Code"
   ]
  },
  {
   "cell_type": "code",
   "execution_count": 11,
   "metadata": {},
   "outputs": [
    {
     "data": {
      "text/plain": [
       "'{Internet,Wifi,Kitchen,\"Paid parking off premises\",\"Pets live on this property\",Cat(s),Heating,\"Family/kid friendly\",Washer,\"Smoke detector\",\"Fire extinguisher\",Essentials,Shampoo,Hangers,\"Hair dryer\",Iron,\"Laptop friendly workspace\",\"Hot water\",\"Coffee maker\",Refrigerator,Dishwasher,\"Dishes and silverware\",\"Cooking basics\",Oven,Stove,\"Patio or balcony\",Other}'"
      ]
     },
     "execution_count": 11,
     "metadata": {},
     "output_type": "execute_result"
    }
   ],
   "source": [
    "listings_raw['amenities'].loc[1]"
   ]
  },
  {
   "cell_type": "code",
   "execution_count": 12,
   "metadata": {},
   "outputs": [
    {
     "data": {
      "text/plain": [
       "str"
      ]
     },
     "execution_count": 12,
     "metadata": {},
     "output_type": "execute_result"
    }
   ],
   "source": [
    "type(listings_raw['amenities'].loc[1])"
   ]
  },
  {
   "cell_type": "markdown",
   "metadata": {},
   "source": [
    "----------------------------------------------------------------------------------------------------------------------"
   ]
  },
  {
   "cell_type": "markdown",
   "metadata": {},
   "source": [
    "## Cleaning the Data / Setting Limits"
   ]
  },
  {
   "cell_type": "code",
   "execution_count": 13,
   "metadata": {},
   "outputs": [
    {
     "name": "stderr",
     "output_type": "stream",
     "text": [
      "<ipython-input-13-83fa0ede403b>:2: SettingWithCopyWarning: \n",
      "A value is trying to be set on a copy of a slice from a DataFrame\n",
      "\n",
      "See the caveats in the documentation: https://pandas.pydata.org/pandas-docs/stable/user_guide/indexing.html#returning-a-view-versus-a-copy\n",
      "  listingsv1.dropna(subset = ['beds','bathrooms'], inplace=True)\n"
     ]
    }
   ],
   "source": [
    "#Clean Data with null values = beds, bathrooms \n",
    "listingsv1.dropna(subset = ['beds','bathrooms'], inplace=True)"
   ]
  },
  {
   "cell_type": "markdown",
   "metadata": {},
   "source": [
    "### Price Cleaning"
   ]
  },
  {
   "cell_type": "code",
   "execution_count": 14,
   "metadata": {},
   "outputs": [
    {
     "name": "stderr",
     "output_type": "stream",
     "text": [
      "<ipython-input-14-248f660963d8>:2: SettingWithCopyWarning: \n",
      "A value is trying to be set on a copy of a slice from a DataFrame.\n",
      "Try using .loc[row_indexer,col_indexer] = value instead\n",
      "\n",
      "See the caveats in the documentation: https://pandas.pydata.org/pandas-docs/stable/user_guide/indexing.html#returning-a-view-versus-a-copy\n",
      "  listingsv1[\"price\"] = listingsv1[\"price\"].replace('[\\$,]', '', regex=True).astype(float)\n"
     ]
    }
   ],
   "source": [
    "# Convert price from object into int\n",
    "listingsv1[\"price\"] = listingsv1[\"price\"].replace('[\\$,]', '', regex=True).astype(float)"
   ]
  },
  {
   "cell_type": "code",
   "execution_count": 15,
   "metadata": {},
   "outputs": [],
   "source": [
    "# Omit Data that has 0 for price value \n",
    "aboveZeroFilter = listingsv1['price'] > 1\n",
    "listingsv1 = listingsv1[aboveZeroFilter]"
   ]
  },
  {
   "cell_type": "code",
   "execution_count": 16,
   "metadata": {},
   "outputs": [],
   "source": [
    "#Let's convert the price from Dollars to Euros"
   ]
  },
  {
   "cell_type": "markdown",
   "metadata": {},
   "source": [
    "Let's Check for Outliers in price by first visualizing and then the odd cases"
   ]
  },
  {
   "cell_type": "code",
   "execution_count": 17,
   "metadata": {},
   "outputs": [
    {
     "data": {
      "text/plain": [
       "<AxesSubplot:xlabel='price'>"
      ]
     },
     "execution_count": 17,
     "metadata": {},
     "output_type": "execute_result"
    },
    {
     "data": {
      "image/png": "[encoded data removed]",
      "text/plain": [
       "<Figure size 720x360 with 1 Axes>"
      ]
     },
     "metadata": {},
     "output_type": "display_data"
    }
   ],
   "source": [
    "plt.figure(figsize = (10,5))\n",
    "sns.boxplot(data=listingsv1, x='price')"
   ]
  },
  {
   "cell_type": "markdown",
   "metadata": {},
   "source": [
    "As we can see, there are a bunch of outliers. It never ceases to amaze me how there is actually a couple of listings above 8000$. \n",
    "\n",
    "One may argue that since we are performing analysis only for a target that is 'broke', we can just omit prices that do not fall within a certain range - but hold on - just what do you mean by 'broke?' This is of course relative to every person, but to keep it as unambigious as possible, in this analysis I will work with what's below the 25th Percentile:"
   ]
  },
  {
   "cell_type": "code",
   "execution_count": 18,
   "metadata": {},
   "outputs": [
    {
     "name": "stdout",
     "output_type": "stream",
     "text": [
      "We will define the price limit as... 96$\n"
     ]
    }
   ],
   "source": [
    "brokelimit = round(listingsv1['price'].quantile(q=0.25))\n",
    "print(f'We will define the price limit as... {brokelimit}' + '$')"
   ]
  },
  {
   "cell_type": "markdown",
   "metadata": {},
   "source": [
    "96 dollars is not bad for a broke couple. If you divide that by two (assuming they're both paying equally) that is 48 dollars per/night. Personally, I think that's good enough for an limit on what constitutes as a 'broke' price max."
   ]
  },
  {
   "cell_type": "code",
   "execution_count": 19,
   "metadata": {},
   "outputs": [
    {
     "name": "stdout",
     "output_type": "stream",
     "text": [
      "In total, we have 5008 listings that fall within the price range\n"
     ]
    }
   ],
   "source": [
    "price_mask = listingsv1[\"price\"] <= 96\n",
    "listingsv1 = listingsv1[price_mask]\n",
    "listingamount = listingsv1['price'].count()\n",
    "print(f'In total, we have {listingamount} listings that fall within the price range')"
   ]
  },
  {
   "cell_type": "code",
   "execution_count": 20,
   "metadata": {},
   "outputs": [
    {
     "data": {
      "text/plain": [
       "<AxesSubplot:xlabel='price'>"
      ]
     },
     "execution_count": 20,
     "metadata": {},
     "output_type": "execute_result"
    },
    {
     "data": {
      "image/png": "[encoded data removed]",
      "text/plain": [
       "<Figure size 720x360 with 1 Axes>"
      ]
     },
     "metadata": {},
     "output_type": "display_data"
    }
   ],
   "source": [
    "#Let's check the boxplot again - looks great to me!\n",
    "plt.figure(figsize = (10,5))\n",
    "sns.boxplot(data=listingsv1, x='price')"
   ]
  },
  {
   "cell_type": "markdown",
   "metadata": {},
   "source": [
    "What's the price we can expect on average?"
   ]
  },
  {
   "cell_type": "code",
   "execution_count": 46,
   "metadata": {},
   "outputs": [
    {
     "name": "stdout",
     "output_type": "stream",
     "text": [
      "The average price, when setting the price limit of the data to the 25th Percentile is 76$\n"
     ]
    }
   ],
   "source": [
    "pricemean = round(listingsv1['price'].mean())\n",
    "print(f'The average price, when setting the price limit of the data to the 25th Percentile is {pricemean}' + '$')"
   ]
  },
  {
   "cell_type": "markdown",
   "metadata": {},
   "source": [
    "### Setting a filter which makes sure the listing is indeed for a couple\n",
    "The 'accommodates' column indicates the maximum and minimum amount of guests a listing can hold. In our case, let's set it exactly to two."
   ]
  },
  {
   "cell_type": "code",
   "execution_count": 22,
   "metadata": {},
   "outputs": [
    {
     "name": "stdout",
     "output_type": "stream",
     "text": [
      "In total, we have 3792 listings that fall within the couple criteria\n"
     ]
    }
   ],
   "source": [
    "coupleMask = listingsv1['accommodates'] == 2\n",
    "listingsv1 = listingsv1[coupleMask]\n",
    "listingcount = listingsv1['id'].count()\n",
    "print(f'In total, we have {listingcount} listings that fall within the couple criteria')"
   ]
  },
  {
   "cell_type": "markdown",
   "metadata": {},
   "source": [
    "All right, a total of 3792 listings. That's a good enough amount for us to start exploring and visualizing!"
   ]
  },
  {
   "cell_type": "markdown",
   "metadata": {},
   "source": [
    "----------------------------------------------------------------------------------------------------------------------"
   ]
  },
  {
   "cell_type": "markdown",
   "metadata": {},
   "source": [
    "## Exploratory Data Analysis"
   ]
  },
  {
   "cell_type": "markdown",
   "metadata": {},
   "source": [
    "### A Closer Investigation of Neighbourhoods"
   ]
  },
  {
   "cell_type": "markdown",
   "metadata": {},
   "source": [
    "Which Neighbourhood falls into our criteria the most? In other words, which neighbourhood has the most listings when it came to fitting into the criteria of a broke couple?"
   ]
  },
  {
   "cell_type": "code",
   "execution_count": 35,
   "metadata": {},
   "outputs": [
    {
     "data": {
      "text/plain": [
       "Text(0.5, 1.0, 'Top 10, Friendly-To-Broke-Couples Neighbourhoods')"
      ]
     },
     "execution_count": 35,
     "metadata": {},
     "output_type": "execute_result"
    },
    {
     "data": {
      "image/png": "[encoded data removed]",
      "text/plain": [
       "<Figure size 864x504 with 1 Axes>"
      ]
     },
     "metadata": {},
     "output_type": "display_data"
    }
   ],
   "source": [
    "plt.figure(figsize=(12,7))\n",
    "listingsv1['neighbourhood'].value_counts().head(10).plot(kind='barh').invert_yaxis()\n",
    "plt.yticks(fontsize = 12, rotation = 0)\n",
    "plt.title('Top 10, Friendly-To-Broke-Couples Neighbourhoods', fontsize= 15, fontweight = 'bold', pad = 20)"
   ]
  },
  {
   "cell_type": "markdown",
   "metadata": {},
   "source": [
    "Looks like the neighbourhood of Oud-West takes the top spot by a big margin - This is no surprise because that area is primarily filled with residential apartments to begin with. But what about it's price? If you are a *truly broke* couple, you probably would prioritise price above everything else, correct?\n",
    "\n",
    "Let us then ask, which areas have on average, the cheapest AirBnB listings when it comes to accommodating two people:"
   ]
  },
  {
   "cell_type": "code",
   "execution_count": 40,
   "metadata": {},
   "outputs": [
    {
     "data": {
      "text/plain": [
       "Text(0.5, 1.0, 'Top 10 Areas with Cheapest Listings (On Average)')"
      ]
     },
     "execution_count": 40,
     "metadata": {},
     "output_type": "execute_result"
    },
    {
     "data": {
      "image/png": "[encoded data removed]",
      "text/plain": [
       "<Figure size 864x504 with 1 Axes>"
      ]
     },
     "metadata": {},
     "output_type": "display_data"
    }
   ],
   "source": [
    "plt.figure(figsize=(12,7))\n",
    "gbo = listingsv1.groupby('neighbourhood')\n",
    "gbo['price'].mean().nsmallest(10).plot(kind='barh').invert_yaxis()\n",
    "plt.yticks(fontsize = 12, rotation = 0)\n",
    "plt.ylabel(None)\n",
    "plt.title('Top 10 Areas with Cheapest Listings (On Average)', fontsize= 15, fontweight = 'bold', pad = 20)"
   ]
  },
  {
   "cell_type": "code",
   "execution_count": null,
   "metadata": {},
   "outputs": [],
   "source": []
  }
 ],
 "metadata": {
  "kernelspec": {
   "display_name": "Python 3",
   "language": "python",
   "name": "python3"
  },
  "language_info": {
   "codemirror_mode": {
    "name": "ipython",
    "version": 3
   },
   "file_extension": ".py",
   "mimetype": "text/x-python",
   "name": "python",
   "nbconvert_exporter": "python",
   "pygments_lexer": "ipython3",
   "version": "3.8.5"
  }
 },
 "nbformat": 4,
 "nbformat_minor": 4
}
